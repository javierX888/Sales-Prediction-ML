{
 "cells": [
  {
   "cell_type": "markdown",
   "metadata": {},
   "source": [
    "# Evaluación de Modelos\n",
    "\n",
    "Este cuaderno se encarga de evaluar el rendimiento de los modelos de machine learning entrenados en el cuaderno anterior. Se compararán las métricas de rendimiento y se seleccionará el mejor modelo para su implementación."
   ]
  },
  {
   "cell_type": "code",
   "execution_count": null,
   "metadata": {
    "id": "import-libraries"
   },
   "outputs": [],
   "source": [
    "# Importar librerías necesarias\n",
    "import pandas as pd\n",
    "import numpy as np\n",
    "import pickle\n",
    "from sklearn.metrics import accuracy_score, precision_score, recall_score, f1_score\n",
    "import matplotlib.pyplot as plt\n",
    "import seaborn as sns\n",
    "\n",
    "sns.set(style='whitegrid')\n",
    "\n",
    "print('Librerías importadas correctamente')"
   ]
  },
  {
   "cell_type": "markdown",
   "metadata": {},
   "source": [
    "## Cargar Datos Procesados\n",
    "\n",
    "Cargamos el dataset procesado que se utilizará para la evaluación de los modelos."
   ]
  },
  {
   "cell_type": "code",
   "execution_count": null,
   "metadata": {
    "id": "load-data"
   },
   "outputs": [],
   "source": [
    "# Cargar el dataset procesado\n",
    "df = pd.read_csv('../data/processed/sales_clean.csv')\n",
    "\n",
    "print(f'Dataset cargado: {df.shape[0]} filas, {df.shape[1]} columnas')"
   ]
  },
  {
   "cell_type": "markdown",
   "metadata": {},
   "source": [
    "## Cargar Modelos Pre-entrenados\n",
    "\n",
    "Cargamos los modelos pre-entrenados que se evaluarán."
   ]
  },
  {
   "cell_type": "code",
   "execution_count": null,
   "metadata": {
    "id": "load-models"
   },
   "outputs": [],
   "source": [
    "# Cargar modelos pre-entrenados\n",
    "with open('../models/random_forest.pkl', 'rb') as f:\n",
    "    rf_model = pickle.load(f)\n",
    "\n",
    "with open('../models/xgboost.pkl', 'rb') as f:\n",
    "    xgb_model = pickle.load(f)\n",
    "\n",
    "print('Modelos cargados correctamente')"
   ]
  },
  {
   "cell_type": "markdown",
   "metadata": {},
   "source": [
    "## Preparar Datos para Evaluación\n",
    "\n",
    "Separar las características y la variable objetivo del dataset."
   ]
  },
  {
   "cell_type": "code",
   "execution_count": null,
   "metadata": {
    "id": "prepare-data"
   },
   "outputs": [],
   "source": [
    "# Separar características y variable objetivo\n",
    "X = df.drop('sales', axis=1)\n",
    "y = df['sales']\n",
    "\n",
    "print(f'Características: {X.shape[1]}, Variable objetivo: {y.shape[0]}')"
   ]
  },
  {
   "cell_type": "markdown",
   "metadata": {},
   "source": [
    "## Evaluar Modelos\n",
    "\n",
    "Realizamos predicciones con ambos modelos y calculamos las métricas de rendimiento."
   ]
  },
  {
   "cell_type": "code",
   "execution_count": null,
   "metadata": {
    "id": "evaluate-models"
   },
   "outputs": [],
   "source": [
    "# Evaluar Random Forest\n",
    "rf_predictions = rf_model.predict(X)\n",
    "rf_accuracy = accuracy_score(y, rf_predictions)\n",
    "rf_precision = precision_score(y, rf_predictions, average='weighted')\n",
    "rf_recall = recall_score(y, rf_predictions, average='weighted')\n",
    "rf_f1 = f1_score(y, rf_predictions, average='weighted')\n",
    "\n",
    "# Evaluar XGBoost\n",
    "xgb_predictions = xgb_model.predict(X)\n",
    "xgb_accuracy = accuracy_score(y, xgb_predictions)\n",
    "xgb_precision = precision_score(y, xgb_predictions, average='weighted')\n",
    "xgb_recall = recall_score(y, xgb_predictions, average='weighted')\n",
    "xgb_f1 = f1_score(y, xgb_predictions, average='weighted')\n",
    "\n",
    "metrics = pd.DataFrame({\n",
    "    'Modelo': ['Random Forest', 'XGBoost'],\n",
    "    'Precisión': [rf_accuracy, xgb_accuracy],\n",
    "    'Precisión (weighted)': [rf_precision, xgb_precision],\n",
    "    'Recall (weighted)': [rf_recall, xgb_recall],\n",
    "    'F1 Score (weighted)': [rf_f1, xgb_f1]\n",
    "})\n",
    "\n",
    "print(metrics)"
   ]
  },
  {
   "cell_type": "markdown",
   "metadata": {},
   "source": [
    "## Conclusiones\n",
    "\n",
    "En base a las métricas obtenidas, se puede determinar cuál modelo tiene un mejor rendimiento y es más adecuado para su implementación."
   ]
  }
 ],
 "metadata": {
  "kernelspec": {
   "display_name": "Python 3",
   "language": "python",
   "name": "python3"
  },
  "language_info": {
   "codemirror_mode": {
    "name": "ipython",
    "version": 3
   },
   "file_extension": ".py",
   "mimetype": "text/x-python",
   "name": "python",
   "nbconvert_exporter": "python",
   "pygments_lexer": "ipython3",
   "version": "3.8.5"
  }
 },
 "nbformat": 4,
 "nbformat_minor": 4
}