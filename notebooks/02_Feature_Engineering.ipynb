{
 "cells": [
  {
   "cell_type": "markdown",
   "id": "2800b584",
   "metadata": {},
   "source": [
    "# Feature Engineering\n",
    "# Proyecto: Predicción de Ventas\n",
    "\n",
    "**Autor:** Javier Gacitúa  \n",
    "**Fecha:** Octubre 2025\n",
    "\n",
    "---\n",
    "\n",
    "## Objetivos\n",
    "\n",
    "1. Crear nuevas variables derivadas de las existentes\n",
    "2. Transformar variables para mejorar el modelo\n",
    "3. Generar características temporales\n",
    "4. Crear interacciones entre variables\n",
    "5. Preparar datos para modelado"
   ]
  },
  {
   "cell_type": "code",
   "execution_count": 1,
   "id": "3521b17d",
   "metadata": {
    "vscode": {
     "languageId": "code"
    }
   },
   "outputs": [
    {
     "name": "stdout",
     "output_type": "stream",
     "text": [
      " Librerías importadas correctamente\n"
     ]
    }
   ],
   "source": [
    "# Importar librerías\n",
    "import pandas as pd\n",
    "import numpy as np\n",
    "import matplotlib.pyplot as plt\n",
    "import seaborn as sns\n",
    "import warnings\n",
    "warnings.filterwarnings('ignore')\n",
    "\n",
    "# Configuración\n",
    "plt.style.use('seaborn-v0_8-darkgrid')\n",
    "sns.set_palette(\"husl\")\n",
    "\n",
    "print(\" Librerías importadas correctamente\")"
   ]
  },
  {
   "cell_type": "markdown",
   "id": "c2cf1224",
   "metadata": {},
   "source": [
    "## 1. Cargar Datos Procesados"
   ]
  },
  {
   "cell_type": "code",
   "execution_count": 2,
   "id": "8f97d3e9",
   "metadata": {
    "vscode": {
     "languageId": "code"
    }
   },
   "outputs": [
    {
     "ename": "TypeError",
     "evalue": "__init__() got an unexpected keyword argument 'data_dir'",
     "output_type": "error",
     "traceback": [
      "\u001b[0;31m---------------------------------------------------------------------------\u001b[0m",
      "\u001b[0;31mTypeError\u001b[0m                                 Traceback (most recent call last)",
      "Cell \u001b[0;32mIn[2], line 8\u001b[0m\n\u001b[1;32m      5\u001b[0m \u001b[38;5;28;01mfrom\u001b[39;00m\u001b[38;5;250m \u001b[39m\u001b[38;5;21;01mfeature_engineering\u001b[39;00m\u001b[38;5;250m \u001b[39m\u001b[38;5;28;01mimport\u001b[39;00m FeatureEngineer\n\u001b[1;32m      7\u001b[0m \u001b[38;5;66;03m# Inicializar\u001b[39;00m\n\u001b[0;32m----> 8\u001b[0m loader \u001b[38;5;241m=\u001b[39m \u001b[43mDataLoader\u001b[49m\u001b[43m(\u001b[49m\u001b[43mdata_dir\u001b[49m\u001b[38;5;241;43m=\u001b[39;49m\u001b[38;5;124;43m'\u001b[39;49m\u001b[38;5;124;43m../data\u001b[39;49m\u001b[38;5;124;43m'\u001b[39;49m\u001b[43m)\u001b[49m\n\u001b[1;32m      9\u001b[0m engineer \u001b[38;5;241m=\u001b[39m FeatureEngineer()\n\u001b[1;32m     11\u001b[0m \u001b[38;5;66;03m# Cargar datos (reemplazar con tu dataset)\u001b[39;00m\n\u001b[1;32m     12\u001b[0m \u001b[38;5;66;03m# df = loader.load_local_csv('sales_explored.csv', directory='processed')\u001b[39;00m\n\u001b[1;32m     13\u001b[0m \n\u001b[1;32m     14\u001b[0m \u001b[38;5;66;03m# Datos de ejemplo\u001b[39;00m\n",
      "\u001b[0;31mTypeError\u001b[0m: __init__() got an unexpected keyword argument 'data_dir'"
     ]
    }
   ],
   "source": [
    "# Importar módulos propios\n",
    "import sys\n",
    "sys.path.append('../src')\n",
    "from data_loader import DataLoader\n",
    "from feature_engineering import FeatureEngineer\n",
    "\n",
    "# Inicializar\n",
    "loader = DataLoader(data_dir='../data')\n",
    "engineer = FeatureEngineer()\n",
    "\n",
    "# Cargar datos (reemplazar con tu dataset)\n",
    "# df = loader.load_local_csv('sales_explored.csv', directory='processed')\n",
    "\n",
    "# Datos de ejemplo\n",
    "np.random.seed(42)\n",
    "df = pd.DataFrame({\n",
    "    'date': pd.date_range('2023-01-01', periods=1000, freq='D'),\n",
    "    'sales': np.random.normal(1000, 200, 1000) + np.linspace(0, 500, 1000),\n",
    "    'store_id': np.random.randint(1, 11, 1000),\n",
    "    'product_category': np.random.choice(['Electronics', 'Clothing', 'Food', 'Books'], 1000),\n",
    "    'price': np.random.uniform(10, 100, 1000),\n",
    "    'promotion': np.random.choice([0, 1], 1000),\n",
    "    'customers': np.random.randint(10, 200, 1000)\n",
    "})\n",
    "\n",
    "print(f\" Dataset cargado: {df.shape[0]} filas, {df.shape[1]} columnas\")\n",
    "df.head()"
   ]
  },
  {
   "cell_type": "markdown",
   "id": "90c92c2b",
   "metadata": {},
   "source": [
    "## 2. Características Temporales"
   ]
  },
  {
   "cell_type": "code",
   "execution_count": null,
   "id": "2f7fefaa",
   "metadata": {
    "vscode": {
     "languageId": "code"
    }
   },
   "outputs": [],
   "source": [
    "# Crear características de fecha\n",
    "df = engineer.create_date_features(df, 'date')\n",
    "\n",
    "# Visualizar nuevas características\n",
    "print(\"\\n Nuevas características temporales:\")\n",
    "date_features = [col for col in df.columns if 'date_' in col]\n",
    "df[date_features].head(10)"
   ]
  },
  {
   "cell_type": "code",
   "execution_count": null,
   "id": "39badf7b",
   "metadata": {
    "vscode": {
     "languageId": "code"
    }
   },
   "outputs": [],
   "source": [
    "# Análisis de ventas por mes\n",
    "monthly_sales = df.groupby('date_month')['sales'].mean().sort_index()\n",
    "\n",
    "plt.figure(figsize=(12, 6))\n",
    "plt.plot(monthly_sales.index, monthly_sales.values, marker='o', linewidth=2, markersize=8)\n",
    "plt.xlabel('Mes', fontsize=12)\n",
    "plt.ylabel('Ventas Promedio', fontsize=12)\n",
    "plt.title('Ventas Promedio por Mes', fontsize=14, fontweight='bold')\n",
    "plt.xticks(range(1, 13), ['Ene', 'Feb', 'Mar', 'Abr', 'May', 'Jun', \n",
    "                          'Jul', 'Ago', 'Sep', 'Oct', 'Nov', 'Dic'])\n",
    "plt.grid(True, alpha=0.3)\n",
    "plt.tight_layout()\n",
    "plt.show()"
   ]
  },
  {
   "cell_type": "markdown",
   "id": "12f96c07",
   "metadata": {},
   "source": [
    "## 3. Lag Features (Características de Rezago)"
   ]
  },
  {
   "cell_type": "code",
   "execution_count": 3,
   "id": "26d669be",
   "metadata": {
    "vscode": {
     "languageId": "code"
    }
   },
   "outputs": [
    {
     "ename": "NameError",
     "evalue": "name 'df' is not defined",
     "output_type": "error",
     "traceback": [
      "\u001b[0;31m---------------------------------------------------------------------------\u001b[0m",
      "\u001b[0;31mNameError\u001b[0m                                 Traceback (most recent call last)",
      "Cell \u001b[0;32mIn[3], line 2\u001b[0m\n\u001b[1;32m      1\u001b[0m \u001b[38;5;66;03m# Crear lag features para ventas\u001b[39;00m\n\u001b[0;32m----> 2\u001b[0m df \u001b[38;5;241m=\u001b[39m \u001b[43mdf\u001b[49m\u001b[38;5;241m.\u001b[39msort_values(\u001b[38;5;124m'\u001b[39m\u001b[38;5;124mdate\u001b[39m\u001b[38;5;124m'\u001b[39m)\u001b[38;5;241m.\u001b[39mreset_index(drop\u001b[38;5;241m=\u001b[39m\u001b[38;5;28;01mTrue\u001b[39;00m)\n\u001b[1;32m      3\u001b[0m df \u001b[38;5;241m=\u001b[39m engineer\u001b[38;5;241m.\u001b[39mcreate_lag_features(df, \u001b[38;5;124m'\u001b[39m\u001b[38;5;124msales\u001b[39m\u001b[38;5;124m'\u001b[39m, lags\u001b[38;5;241m=\u001b[39m[\u001b[38;5;241m1\u001b[39m, \u001b[38;5;241m7\u001b[39m, \u001b[38;5;241m14\u001b[39m, \u001b[38;5;241m30\u001b[39m])\n\u001b[1;32m      5\u001b[0m \u001b[38;5;66;03m# Visualizar lag features\u001b[39;00m\n",
      "\u001b[0;31mNameError\u001b[0m: name 'df' is not defined"
     ]
    }
   ],
   "source": [
    "# Crear lag features para ventas\n",
    "df = df.sort_values('date').reset_index(drop=True)\n",
    "df = engineer.create_lag_features(df, 'sales', lags=[1, 7, 14, 30])\n",
    "\n",
    "# Visualizar lag features\n",
    "print(\"\\n Lag Features creadas:\")\n",
    "lag_cols = [col for col in df.columns if 'lag' in col]\n",
    "df[['date', 'sales'] + lag_cols].head(35)"
   ]
  },
  {
   "cell_type": "code",
   "execution_count": 4,
   "id": "e68389ea",
   "metadata": {
    "vscode": {
     "languageId": "code"
    }
   },
   "outputs": [
    {
     "ename": "NameError",
     "evalue": "name 'lag_cols' is not defined",
     "output_type": "error",
     "traceback": [
      "\u001b[0;31m---------------------------------------------------------------------------\u001b[0m",
      "\u001b[0;31mNameError\u001b[0m                                 Traceback (most recent call last)",
      "Cell \u001b[0;32mIn[4], line 2\u001b[0m\n\u001b[1;32m      1\u001b[0m \u001b[38;5;66;03m# Correlación de lag features con ventas\u001b[39;00m\n\u001b[0;32m----> 2\u001b[0m lag_cols_full \u001b[38;5;241m=\u001b[39m [\u001b[38;5;124m'\u001b[39m\u001b[38;5;124msales\u001b[39m\u001b[38;5;124m'\u001b[39m] \u001b[38;5;241m+\u001b[39m \u001b[43mlag_cols\u001b[49m\n\u001b[1;32m      3\u001b[0m lag_corr \u001b[38;5;241m=\u001b[39m df[lag_cols_full]\u001b[38;5;241m.\u001b[39mcorr()[\u001b[38;5;124m'\u001b[39m\u001b[38;5;124msales\u001b[39m\u001b[38;5;124m'\u001b[39m]\u001b[38;5;241m.\u001b[39msort_values(ascending\u001b[38;5;241m=\u001b[39m\u001b[38;5;28;01mFalse\u001b[39;00m)\n\u001b[1;32m      5\u001b[0m plt\u001b[38;5;241m.\u001b[39mfigure(figsize\u001b[38;5;241m=\u001b[39m(\u001b[38;5;241m10\u001b[39m, \u001b[38;5;241m6\u001b[39m))\n",
      "\u001b[0;31mNameError\u001b[0m: name 'lag_cols' is not defined"
     ]
    }
   ],
   "source": [
    "# Correlación de lag features con ventas\n",
    "lag_cols_full = ['sales'] + lag_cols\n",
    "lag_corr = df[lag_cols_full].corr()['sales'].sort_values(ascending=False)\n",
    "\n",
    "plt.figure(figsize=(10, 6))\n",
    "lag_corr[1:].plot(kind='barh', color='steelblue')\n",
    "plt.xlabel('Correlación con Ventas', fontsize=12)\n",
    "plt.title('Correlación de Lag Features con Ventas', fontsize=14, fontweight='bold')\n",
    "plt.grid(True, alpha=0.3, axis='x')\n",
    "plt.tight_layout()\n",
    "plt.show()\n",
    "\n",
    "print(\"\\n Correlación de Lag Features:\")\n",
    "print(lag_corr)"
   ]
  },
  {
   "cell_type": "markdown",
   "id": "8bf5052d",
   "metadata": {},
   "source": [
    "## 4. Rolling Features (Ventana Móvil)"
   ]
  },
  {
   "cell_type": "code",
   "execution_count": 5,
   "id": "f2347922",
   "metadata": {
    "vscode": {
     "languageId": "code"
    }
   },
   "outputs": [
    {
     "ename": "NameError",
     "evalue": "name 'engineer' is not defined",
     "output_type": "error",
     "traceback": [
      "\u001b[0;31m---------------------------------------------------------------------------\u001b[0m",
      "\u001b[0;31mNameError\u001b[0m                                 Traceback (most recent call last)",
      "Cell \u001b[0;32mIn[5], line 2\u001b[0m\n\u001b[1;32m      1\u001b[0m \u001b[38;5;66;03m# Crear rolling features\u001b[39;00m\n\u001b[0;32m----> 2\u001b[0m df \u001b[38;5;241m=\u001b[39m \u001b[43mengineer\u001b[49m\u001b[38;5;241m.\u001b[39mcreate_rolling_features(df, \u001b[38;5;124m'\u001b[39m\u001b[38;5;124msales\u001b[39m\u001b[38;5;124m'\u001b[39m, windows\u001b[38;5;241m=\u001b[39m[\u001b[38;5;241m7\u001b[39m, \u001b[38;5;241m14\u001b[39m, \u001b[38;5;241m30\u001b[39m])\n\u001b[1;32m      4\u001b[0m \u001b[38;5;66;03m# Visualizar rolling features\u001b[39;00m\n\u001b[1;32m      5\u001b[0m \u001b[38;5;28mprint\u001b[39m(\u001b[38;5;124m\"\u001b[39m\u001b[38;5;130;01m\\n\u001b[39;00m\u001b[38;5;124m Rolling Features creadas:\u001b[39m\u001b[38;5;124m\"\u001b[39m)\n",
      "\u001b[0;31mNameError\u001b[0m: name 'engineer' is not defined"
     ]
    }
   ],
   "source": [
    "# Crear rolling features\n",
    "df = engineer.create_rolling_features(df, 'sales', windows=[7, 14, 30])\n",
    "\n",
    "# Visualizar rolling features\n",
    "print(\"\\n Rolling Features creadas:\")\n",
    "rolling_cols = [col for col in df.columns if 'rolling' in col]\n",
    "df[['date', 'sales'] + rolling_cols[:4]].head(35)"
   ]
  },
  {
   "cell_type": "code",
   "execution_count": 6,
   "id": "0b14f057",
   "metadata": {
    "vscode": {
     "languageId": "code"
    }
   },
   "outputs": [
    {
     "ename": "NameError",
     "evalue": "name 'df' is not defined",
     "output_type": "error",
     "traceback": [
      "\u001b[0;31m---------------------------------------------------------------------------\u001b[0m",
      "\u001b[0;31mNameError\u001b[0m                                 Traceback (most recent call last)",
      "Cell \u001b[0;32mIn[6], line 3\u001b[0m\n\u001b[1;32m      1\u001b[0m \u001b[38;5;66;03m# Visualizar media móvil\u001b[39;00m\n\u001b[1;32m      2\u001b[0m plt\u001b[38;5;241m.\u001b[39mfigure(figsize\u001b[38;5;241m=\u001b[39m(\u001b[38;5;241m15\u001b[39m, \u001b[38;5;241m6\u001b[39m))\n\u001b[0;32m----> 3\u001b[0m plt\u001b[38;5;241m.\u001b[39mplot(\u001b[43mdf\u001b[49m[\u001b[38;5;124m'\u001b[39m\u001b[38;5;124mdate\u001b[39m\u001b[38;5;124m'\u001b[39m], df[\u001b[38;5;124m'\u001b[39m\u001b[38;5;124msales\u001b[39m\u001b[38;5;124m'\u001b[39m], label\u001b[38;5;241m=\u001b[39m\u001b[38;5;124m'\u001b[39m\u001b[38;5;124mVentas Reales\u001b[39m\u001b[38;5;124m'\u001b[39m, alpha\u001b[38;5;241m=\u001b[39m\u001b[38;5;241m0.5\u001b[39m, linewidth\u001b[38;5;241m=\u001b[39m\u001b[38;5;241m1\u001b[39m)\n\u001b[1;32m      4\u001b[0m plt\u001b[38;5;241m.\u001b[39mplot(df[\u001b[38;5;124m'\u001b[39m\u001b[38;5;124mdate\u001b[39m\u001b[38;5;124m'\u001b[39m], df[\u001b[38;5;124m'\u001b[39m\u001b[38;5;124msales_rolling_mean_7\u001b[39m\u001b[38;5;124m'\u001b[39m], label\u001b[38;5;241m=\u001b[39m\u001b[38;5;124m'\u001b[39m\u001b[38;5;124mMedia Móvil 7 días\u001b[39m\u001b[38;5;124m'\u001b[39m, linewidth\u001b[38;5;241m=\u001b[39m\u001b[38;5;241m2\u001b[39m)\n\u001b[1;32m      5\u001b[0m plt\u001b[38;5;241m.\u001b[39mplot(df[\u001b[38;5;124m'\u001b[39m\u001b[38;5;124mdate\u001b[39m\u001b[38;5;124m'\u001b[39m], df[\u001b[38;5;124m'\u001b[39m\u001b[38;5;124msales_rolling_mean_30\u001b[39m\u001b[38;5;124m'\u001b[39m], label\u001b[38;5;241m=\u001b[39m\u001b[38;5;124m'\u001b[39m\u001b[38;5;124mMedia Móvil 30 días\u001b[39m\u001b[38;5;124m'\u001b[39m, linewidth\u001b[38;5;241m=\u001b[39m\u001b[38;5;241m2\u001b[39m)\n",
      "\u001b[0;31mNameError\u001b[0m: name 'df' is not defined"
     ]
    },
    {
     "data": {
      "text/plain": [
       "<Figure size 1500x600 with 0 Axes>"
      ]
     },
     "metadata": {},
     "output_type": "display_data"
    }
   ],
   "source": [
    "# Visualizar media móvil\n",
    "plt.figure(figsize=(15, 6))\n",
    "plt.plot(df['date'], df['sales'], label='Ventas Reales', alpha=0.5, linewidth=1)\n",
    "plt.plot(df['date'], df['sales_rolling_mean_7'], label='Media Móvil 7 días', linewidth=2)\n",
    "plt.plot(df['date'], df['sales_rolling_mean_30'], label='Media Móvil 30 días', linewidth=2)\n",
    "plt.xlabel('Fecha', fontsize=12)\n",
    "plt.ylabel('Ventas', fontsize=12)\n",
    "plt.title('Ventas con Medias Móviles', fontsize=14, fontweight='bold')\n",
    "plt.legend()\n",
    "plt.grid(True, alpha=0.3)\n",
    "plt.tight_layout()\n",
    "plt.show()"
   ]
  },
  {
   "cell_type": "markdown",
   "id": "d2a41d76",
   "metadata": {},
   "source": [
    "## 5. Características de Agregación"
   ]
  },
  {
   "cell_type": "code",
   "execution_count": 7,
   "id": "e7247ccb",
   "metadata": {
    "vscode": {
     "languageId": "code"
    }
   },
   "outputs": [
    {
     "ename": "NameError",
     "evalue": "name 'df' is not defined",
     "output_type": "error",
     "traceback": [
      "\u001b[0;31m---------------------------------------------------------------------------\u001b[0m",
      "\u001b[0;31mNameError\u001b[0m                                 Traceback (most recent call last)",
      "Cell \u001b[0;32mIn[7], line 2\u001b[0m\n\u001b[1;32m      1\u001b[0m \u001b[38;5;66;03m# Crear agregaciones por tienda\u001b[39;00m\n\u001b[0;32m----> 2\u001b[0m \u001b[38;5;28;01mif\u001b[39;00m \u001b[38;5;124m'\u001b[39m\u001b[38;5;124mstore_id\u001b[39m\u001b[38;5;124m'\u001b[39m \u001b[38;5;129;01min\u001b[39;00m \u001b[43mdf\u001b[49m\u001b[38;5;241m.\u001b[39mcolumns:\n\u001b[1;32m      3\u001b[0m     df \u001b[38;5;241m=\u001b[39m engineer\u001b[38;5;241m.\u001b[39mcreate_aggregation_features(df, \u001b[38;5;124m'\u001b[39m\u001b[38;5;124mstore_id\u001b[39m\u001b[38;5;124m'\u001b[39m, \u001b[38;5;124m'\u001b[39m\u001b[38;5;124msales\u001b[39m\u001b[38;5;124m'\u001b[39m, \n\u001b[1;32m      4\u001b[0m                                              agg_funcs\u001b[38;5;241m=\u001b[39m[\u001b[38;5;124m'\u001b[39m\u001b[38;5;124mmean\u001b[39m\u001b[38;5;124m'\u001b[39m, \u001b[38;5;124m'\u001b[39m\u001b[38;5;124msum\u001b[39m\u001b[38;5;124m'\u001b[39m, \u001b[38;5;124m'\u001b[39m\u001b[38;5;124mstd\u001b[39m\u001b[38;5;124m'\u001b[39m])\n\u001b[1;32m      6\u001b[0m     \u001b[38;5;28mprint\u001b[39m(\u001b[38;5;124m\"\u001b[39m\u001b[38;5;130;01m\\n\u001b[39;00m\u001b[38;5;124m Features de agregación por tienda:\u001b[39m\u001b[38;5;124m\"\u001b[39m)\n",
      "\u001b[0;31mNameError\u001b[0m: name 'df' is not defined"
     ]
    }
   ],
   "source": [
    "# Crear agregaciones por tienda\n",
    "if 'store_id' in df.columns:\n",
    "    df = engineer.create_aggregation_features(df, 'store_id', 'sales', \n",
    "                                             agg_funcs=['mean', 'sum', 'std'])\n",
    "    \n",
    "    print(\"\\n Features de agregación por tienda:\")\n",
    "    agg_cols = [col for col in df.columns if 'store_id_sales' in col]\n",
    "    df[['store_id', 'sales'] + agg_cols].head(10)"
   ]
  },
  {
   "cell_type": "markdown",
   "id": "56976d50",
   "metadata": {},
   "source": [
    "## 6. Características de Interacción"
   ]
  },
  {
   "cell_type": "code",
   "execution_count": 8,
   "id": "6b776781",
   "metadata": {
    "vscode": {
     "languageId": "code"
    }
   },
   "outputs": [
    {
     "ename": "NameError",
     "evalue": "name 'engineer' is not defined",
     "output_type": "error",
     "traceback": [
      "\u001b[0;31m---------------------------------------------------------------------------\u001b[0m",
      "\u001b[0;31mNameError\u001b[0m                                 Traceback (most recent call last)",
      "Cell \u001b[0;32mIn[8], line 3\u001b[0m\n\u001b[1;32m      1\u001b[0m \u001b[38;5;66;03m# Crear interacciones entre variables numéricas clave\u001b[39;00m\n\u001b[1;32m      2\u001b[0m interaction_cols \u001b[38;5;241m=\u001b[39m [\u001b[38;5;124m'\u001b[39m\u001b[38;5;124mprice\u001b[39m\u001b[38;5;124m'\u001b[39m, \u001b[38;5;124m'\u001b[39m\u001b[38;5;124mpromotion\u001b[39m\u001b[38;5;124m'\u001b[39m, \u001b[38;5;124m'\u001b[39m\u001b[38;5;124mcustomers\u001b[39m\u001b[38;5;124m'\u001b[39m]\n\u001b[0;32m----> 3\u001b[0m df \u001b[38;5;241m=\u001b[39m \u001b[43mengineer\u001b[49m\u001b[38;5;241m.\u001b[39mcreate_interaction_features(df, interaction_cols)\n\u001b[1;32m      5\u001b[0m \u001b[38;5;28mprint\u001b[39m(\u001b[38;5;124m\"\u001b[39m\u001b[38;5;130;01m\\n\u001b[39;00m\u001b[38;5;124m Features de interacción creadas:\u001b[39m\u001b[38;5;124m\"\u001b[39m)\n\u001b[1;32m      6\u001b[0m interaction_features \u001b[38;5;241m=\u001b[39m [col \u001b[38;5;28;01mfor\u001b[39;00m col \u001b[38;5;129;01min\u001b[39;00m df\u001b[38;5;241m.\u001b[39mcolumns \u001b[38;5;28;01mif\u001b[39;00m \u001b[38;5;124m'\u001b[39m\u001b[38;5;124m_x_\u001b[39m\u001b[38;5;124m'\u001b[39m \u001b[38;5;129;01min\u001b[39;00m col \u001b[38;5;129;01mor\u001b[39;00m \u001b[38;5;124m'\u001b[39m\u001b[38;5;124m_div_\u001b[39m\u001b[38;5;124m'\u001b[39m \u001b[38;5;129;01min\u001b[39;00m col]\n",
      "\u001b[0;31mNameError\u001b[0m: name 'engineer' is not defined"
     ]
    }
   ],
   "source": [
    "# Crear interacciones entre variables numéricas clave\n",
    "interaction_cols = ['price', 'promotion', 'customers']\n",
    "df = engineer.create_interaction_features(df, interaction_cols)\n",
    "\n",
    "print(\"\\n Features de interacción creadas:\")\n",
    "interaction_features = [col for col in df.columns if '_x_' in col or '_div_' in col]\n",
    "print(f\"Total: {len(interaction_features)} features\")\n",
    "df[interaction_features].head()"
   ]
  },
  {
   "cell_type": "markdown",
   "id": "e1d72b26",
   "metadata": {},
   "source": [
    "## 7. Características Polinómicas"
   ]
  },
  {
   "cell_type": "code",
   "execution_count": 9,
   "id": "5a3eafe0",
   "metadata": {
    "vscode": {
     "languageId": "code"
    }
   },
   "outputs": [
    {
     "ename": "NameError",
     "evalue": "name 'engineer' is not defined",
     "output_type": "error",
     "traceback": [
      "\u001b[0;31m---------------------------------------------------------------------------\u001b[0m",
      "\u001b[0;31mNameError\u001b[0m                                 Traceback (most recent call last)",
      "Cell \u001b[0;32mIn[9], line 2\u001b[0m\n\u001b[1;32m      1\u001b[0m \u001b[38;5;66;03m# Crear features polinómicas para price\u001b[39;00m\n\u001b[0;32m----> 2\u001b[0m df \u001b[38;5;241m=\u001b[39m \u001b[43mengineer\u001b[49m\u001b[38;5;241m.\u001b[39mcreate_polynomial_features(df, [\u001b[38;5;124m'\u001b[39m\u001b[38;5;124mprice\u001b[39m\u001b[38;5;124m'\u001b[39m], degree\u001b[38;5;241m=\u001b[39m\u001b[38;5;241m2\u001b[39m)\n\u001b[1;32m      4\u001b[0m \u001b[38;5;28mprint\u001b[39m(\u001b[38;5;124m\"\u001b[39m\u001b[38;5;130;01m\\n\u001b[39;00m\u001b[38;5;124m Features polinómicas creadas:\u001b[39m\u001b[38;5;124m\"\u001b[39m)\n\u001b[1;32m      5\u001b[0m poly_cols \u001b[38;5;241m=\u001b[39m [col \u001b[38;5;28;01mfor\u001b[39;00m col \u001b[38;5;129;01min\u001b[39;00m df\u001b[38;5;241m.\u001b[39mcolumns \u001b[38;5;28;01mif\u001b[39;00m \u001b[38;5;124m'\u001b[39m\u001b[38;5;124m_pow_\u001b[39m\u001b[38;5;124m'\u001b[39m \u001b[38;5;129;01min\u001b[39;00m col]\n",
      "\u001b[0;31mNameError\u001b[0m: name 'engineer' is not defined"
     ]
    }
   ],
   "source": [
    "# Crear features polinómicas para price\n",
    "df = engineer.create_polynomial_features(df, ['price'], degree=2)\n",
    "\n",
    "print(\"\\n Features polinómicas creadas:\")\n",
    "poly_cols = [col for col in df.columns if '_pow_' in col]\n",
    "df[['price'] + poly_cols].head()"
   ]
  },
  {
   "cell_type": "markdown",
   "id": "ffeb3de3",
   "metadata": {},
   "source": [
    "## 8. Codificación de Variables Categóricas"
   ]
  },
  {
   "cell_type": "code",
   "execution_count": 10,
   "id": "4b799b7a",
   "metadata": {
    "vscode": {
     "languageId": "code"
    }
   },
   "outputs": [
    {
     "ename": "NameError",
     "evalue": "name 'df' is not defined",
     "output_type": "error",
     "traceback": [
      "\u001b[0;31m---------------------------------------------------------------------------\u001b[0m",
      "\u001b[0;31mNameError\u001b[0m                                 Traceback (most recent call last)",
      "Cell \u001b[0;32mIn[10], line 4\u001b[0m\n\u001b[1;32m      1\u001b[0m \u001b[38;5;66;03m# Codificar categoría de producto\u001b[39;00m\n\u001b[1;32m      2\u001b[0m \u001b[38;5;28;01mfrom\u001b[39;00m\u001b[38;5;250m \u001b[39m\u001b[38;5;21;01msklearn\u001b[39;00m\u001b[38;5;21;01m.\u001b[39;00m\u001b[38;5;21;01mpreprocessing\u001b[39;00m\u001b[38;5;250m \u001b[39m\u001b[38;5;28;01mimport\u001b[39;00m LabelEncoder\n\u001b[0;32m----> 4\u001b[0m \u001b[38;5;28;01mif\u001b[39;00m \u001b[38;5;124m'\u001b[39m\u001b[38;5;124mproduct_category\u001b[39m\u001b[38;5;124m'\u001b[39m \u001b[38;5;129;01min\u001b[39;00m \u001b[43mdf\u001b[49m\u001b[38;5;241m.\u001b[39mcolumns:\n\u001b[1;32m      5\u001b[0m     le \u001b[38;5;241m=\u001b[39m LabelEncoder()\n\u001b[1;32m      6\u001b[0m     df[\u001b[38;5;124m'\u001b[39m\u001b[38;5;124mproduct_category_encoded\u001b[39m\u001b[38;5;124m'\u001b[39m] \u001b[38;5;241m=\u001b[39m le\u001b[38;5;241m.\u001b[39mfit_transform(df[\u001b[38;5;124m'\u001b[39m\u001b[38;5;124mproduct_category\u001b[39m\u001b[38;5;124m'\u001b[39m])\n",
      "\u001b[0;31mNameError\u001b[0m: name 'df' is not defined"
     ]
    }
   ],
   "source": [
    "# Codificar categoría de producto\n",
    "from sklearn.preprocessing import LabelEncoder\n",
    "\n",
    "if 'product_category' in df.columns:\n",
    "    le = LabelEncoder()\n",
    "    df['product_category_encoded'] = le.fit_transform(df['product_category'])\n",
    "    \n",
    "    # Mostrar mapeo\n",
    "    print(\"\\n Codificación de Categorías:\")\n",
    "    print(\"=\" * 40)\n",
    "    for idx, category in enumerate(le.classes_):\n",
    "        print(f\"{idx}: {category}\")\n",
    "    \n",
    "    # Alternativamente: One-Hot Encoding\n",
    "    df_onehot = pd.get_dummies(df, columns=['product_category'], prefix='category')\n",
    "    print(f\"\\n One-Hot Encoding: {len([c for c in df_onehot.columns if 'category_' in c])} columnas creadas\")"
   ]
  },
  {
   "cell_type": "markdown",
   "id": "a8a044db",
   "metadata": {},
   "source": [
    "## 9. Limpieza Final"
   ]
  },
  {
   "cell_type": "code",
   "execution_count": 11,
   "id": "8fbdc158",
   "metadata": {
    "vscode": {
     "languageId": "code"
    }
   },
   "outputs": [
    {
     "ename": "NameError",
     "evalue": "name 'df' is not defined",
     "output_type": "error",
     "traceback": [
      "\u001b[0;31m---------------------------------------------------------------------------\u001b[0m",
      "\u001b[0;31mNameError\u001b[0m                                 Traceback (most recent call last)",
      "Cell \u001b[0;32mIn[11], line 2\u001b[0m\n\u001b[1;32m      1\u001b[0m \u001b[38;5;66;03m# Eliminar filas con NaN generadas por lag/rolling features\u001b[39;00m\n\u001b[0;32m----> 2\u001b[0m \u001b[38;5;28mprint\u001b[39m(\u001b[38;5;124mf\u001b[39m\u001b[38;5;124m\"\u001b[39m\u001b[38;5;124m Filas antes de limpieza: \u001b[39m\u001b[38;5;132;01m{\u001b[39;00m\u001b[38;5;28mlen\u001b[39m(df)\u001b[38;5;132;01m}\u001b[39;00m\u001b[38;5;124m\"\u001b[39m)\n\u001b[1;32m      3\u001b[0m df_clean \u001b[38;5;241m=\u001b[39m df\u001b[38;5;241m.\u001b[39mdropna()\n\u001b[1;32m      4\u001b[0m \u001b[38;5;28mprint\u001b[39m(\u001b[38;5;124mf\u001b[39m\u001b[38;5;124m\"\u001b[39m\u001b[38;5;124m Filas después de limpieza: \u001b[39m\u001b[38;5;132;01m{\u001b[39;00m\u001b[38;5;28mlen\u001b[39m(df_clean)\u001b[38;5;132;01m}\u001b[39;00m\u001b[38;5;124m\"\u001b[39m)\n",
      "\u001b[0;31mNameError\u001b[0m: name 'df' is not defined"
     ]
    }
   ],
   "source": [
    "# Eliminar filas con NaN generadas por lag/rolling features\n",
    "print(f\" Filas antes de limpieza: {len(df)}\")\n",
    "df_clean = df.dropna()\n",
    "print(f\" Filas después de limpieza: {len(df_clean)}\")\n",
    "print(f\" Filas eliminadas: {len(df) - len(df_clean)}\")\n",
    "\n",
    "# Eliminar columna de fecha (ya tenemos sus componentes)\n",
    "if 'date' in df_clean.columns:\n",
    "    df_clean = df_clean.drop('date', axis=1)\n",
    "    print(\" Columna 'date' eliminada\")\n",
    "\n",
    "print(f\"\\n Dataset final: {df_clean.shape[0]} filas, {df_clean.shape[1]} columnas\")"
   ]
  },
  {
   "cell_type": "markdown",
   "id": "eae68a43",
   "metadata": {},
   "source": [
    "## 10. Resumen de Features Creadas"
   ]
  },
  {
   "cell_type": "code",
   "execution_count": 12,
   "id": "fcd2d729",
   "metadata": {
    "vscode": {
     "languageId": "code"
    }
   },
   "outputs": [
    {
     "ename": "NameError",
     "evalue": "name 'engineer' is not defined",
     "output_type": "error",
     "traceback": [
      "\u001b[0;31m---------------------------------------------------------------------------\u001b[0m",
      "\u001b[0;31mNameError\u001b[0m                                 Traceback (most recent call last)",
      "Cell \u001b[0;32mIn[12], line 2\u001b[0m\n\u001b[1;32m      1\u001b[0m \u001b[38;5;66;03m# Mostrar resumen\u001b[39;00m\n\u001b[0;32m----> 2\u001b[0m \u001b[43mengineer\u001b[49m\u001b[38;5;241m.\u001b[39mget_feature_summary()\n\u001b[1;32m      4\u001b[0m \u001b[38;5;66;03m# Información del dataset final\u001b[39;00m\n\u001b[1;32m      5\u001b[0m \u001b[38;5;28mprint\u001b[39m(\u001b[38;5;124m\"\u001b[39m\u001b[38;5;130;01m\\n\u001b[39;00m\u001b[38;5;124m\"\u001b[39m \u001b[38;5;241m+\u001b[39m \u001b[38;5;124m\"\u001b[39m\u001b[38;5;124m=\u001b[39m\u001b[38;5;124m\"\u001b[39m \u001b[38;5;241m*\u001b[39m \u001b[38;5;241m70\u001b[39m)\n",
      "\u001b[0;31mNameError\u001b[0m: name 'engineer' is not defined"
     ]
    }
   ],
   "source": [
    "# Mostrar resumen\n",
    "engineer.get_feature_summary()\n",
    "\n",
    "# Información del dataset final\n",
    "print(\"\\n\" + \"=\" * 70)\n",
    "print(\" DATASET FINAL PARA MODELADO\")\n",
    "print(\"=\" * 70)\n",
    "print(f\"\\nDimensiones: {df_clean.shape[0]:,} filas x {df_clean.shape[1]} columnas\")\n",
    "print(f\"\\nColumnas:\")\n",
    "for col in df_clean.columns:\n",
    "    print(f\"  - {col} ({df_clean[col].dtype})\")"
   ]
  },
  {
   "cell_type": "code",
   "execution_count": 13,
   "id": "19c0047f",
   "metadata": {
    "vscode": {
     "languageId": "code"
    }
   },
   "outputs": [
    {
     "ename": "NameError",
     "evalue": "name 'df_clean' is not defined",
     "output_type": "error",
     "traceback": [
      "\u001b[0;31m---------------------------------------------------------------------------\u001b[0m",
      "\u001b[0;31mNameError\u001b[0m                                 Traceback (most recent call last)",
      "Cell \u001b[0;32mIn[13], line 2\u001b[0m\n\u001b[1;32m      1\u001b[0m \u001b[38;5;66;03m# Correlación con target después de feature engineering\u001b[39;00m\n\u001b[0;32m----> 2\u001b[0m numeric_cols \u001b[38;5;241m=\u001b[39m \u001b[43mdf_clean\u001b[49m\u001b[38;5;241m.\u001b[39mselect_dtypes(include\u001b[38;5;241m=\u001b[39m[np\u001b[38;5;241m.\u001b[39mnumber])\u001b[38;5;241m.\u001b[39mcolumns\n\u001b[1;32m      4\u001b[0m \u001b[38;5;28;01mif\u001b[39;00m \u001b[38;5;124m'\u001b[39m\u001b[38;5;124msales\u001b[39m\u001b[38;5;124m'\u001b[39m \u001b[38;5;129;01min\u001b[39;00m df_clean\u001b[38;5;241m.\u001b[39mcolumns:\n\u001b[1;32m      5\u001b[0m     sales_corr \u001b[38;5;241m=\u001b[39m df_clean[numeric_cols]\u001b[38;5;241m.\u001b[39mcorr()[\u001b[38;5;124m'\u001b[39m\u001b[38;5;124msales\u001b[39m\u001b[38;5;124m'\u001b[39m]\u001b[38;5;241m.\u001b[39msort_values(ascending\u001b[38;5;241m=\u001b[39m\u001b[38;5;28;01mFalse\u001b[39;00m)\n",
      "\u001b[0;31mNameError\u001b[0m: name 'df_clean' is not defined"
     ]
    }
   ],
   "source": [
    "# Correlación con target después de feature engineering\n",
    "numeric_cols = df_clean.select_dtypes(include=[np.number]).columns\n",
    "\n",
    "if 'sales' in df_clean.columns:\n",
    "    sales_corr = df_clean[numeric_cols].corr()['sales'].sort_values(ascending=False)\n",
    "    \n",
    "    # Top 15 correlaciones\n",
    "    top_corr = sales_corr.head(16)[1:]  # Excluir la correlación consigo mismo\n",
    "    \n",
    "    plt.figure(figsize=(10, 8))\n",
    "    top_corr.plot(kind='barh', color='teal')\n",
    "    plt.xlabel('Correlación con Ventas', fontsize=12)\n",
    "    plt.title('Top 15 Features más Correlacionadas con Ventas', fontsize=14, fontweight='bold')\n",
    "    plt.grid(True, alpha=0.3, axis='x')\n",
    "    plt.tight_layout()\n",
    "    plt.show()\n",
    "    \n",
    "    print(\"\\n Top 15 Features más correlacionadas:\")\n",
    "    print(top_corr)"
   ]
  },
  {
   "cell_type": "markdown",
   "id": "3fe2be56",
   "metadata": {},
   "source": [
    "## 11. Guardar Dataset Procesado"
   ]
  },
  {
   "cell_type": "code",
   "execution_count": 14,
   "id": "9f4e0798",
   "metadata": {
    "vscode": {
     "languageId": "code"
    }
   },
   "outputs": [
    {
     "name": "stdout",
     "output_type": "stream",
     "text": [
      " Dataset guardado en: ../data/processed/sales_engineered.csv\n",
      "\n",
      "======================================================================\n",
      " FEATURE ENGINEERING COMPLETADO\n",
      "======================================================================\n"
     ]
    },
    {
     "ename": "NameError",
     "evalue": "name 'df_clean' is not defined",
     "output_type": "error",
     "traceback": [
      "\u001b[0;31m---------------------------------------------------------------------------\u001b[0m",
      "\u001b[0;31mNameError\u001b[0m                                 Traceback (most recent call last)",
      "Cell \u001b[0;32mIn[14], line 10\u001b[0m\n\u001b[1;32m      8\u001b[0m \u001b[38;5;28mprint\u001b[39m(\u001b[38;5;124m\"\u001b[39m\u001b[38;5;124m FEATURE ENGINEERING COMPLETADO\u001b[39m\u001b[38;5;124m\"\u001b[39m)\n\u001b[1;32m      9\u001b[0m \u001b[38;5;28mprint\u001b[39m(\u001b[38;5;124m\"\u001b[39m\u001b[38;5;124m=\u001b[39m\u001b[38;5;124m\"\u001b[39m \u001b[38;5;241m*\u001b[39m \u001b[38;5;241m70\u001b[39m)\n\u001b[0;32m---> 10\u001b[0m \u001b[38;5;28mprint\u001b[39m(\u001b[38;5;124mf\u001b[39m\u001b[38;5;124m\"\u001b[39m\u001b[38;5;130;01m\\n\u001b[39;00m\u001b[38;5;124m Total de features: \u001b[39m\u001b[38;5;132;01m{\u001b[39;00mdf_clean\u001b[38;5;241m.\u001b[39mshape[\u001b[38;5;241m1\u001b[39m]\u001b[38;5;132;01m}\u001b[39;00m\u001b[38;5;124m\"\u001b[39m)\n\u001b[1;32m     11\u001b[0m \u001b[38;5;28mprint\u001b[39m(\u001b[38;5;124mf\u001b[39m\u001b[38;5;124m\"\u001b[39m\u001b[38;5;124m Features nuevas creadas: \u001b[39m\u001b[38;5;132;01m{\u001b[39;00m\u001b[38;5;28mlen\u001b[39m(engineer\u001b[38;5;241m.\u001b[39mcreated_features)\u001b[38;5;132;01m}\u001b[39;00m\u001b[38;5;124m\"\u001b[39m)\n\u001b[1;32m     12\u001b[0m \u001b[38;5;28mprint\u001b[39m(\u001b[38;5;124mf\u001b[39m\u001b[38;5;124m\"\u001b[39m\u001b[38;5;124m Dataset listo para modelado\u001b[39m\u001b[38;5;124m\"\u001b[39m)\n",
      "\u001b[0;31mNameError\u001b[0m: name 'df_clean' is not defined"
     ]
    }
   ],
   "source": [
    "# Guardar dataset final\n",
    "output_path = '../data/processed/sales_engineered.csv'\n",
    "# df_clean.to_csv(output_path, index=False)\n",
    "print(f\" Dataset guardado en: {output_path}\")\n",
    "\n",
    "# Resumen final\n",
    "print(\"\\n\" + \"=\" * 70)\n",
    "print(\" FEATURE ENGINEERING COMPLETADO\")\n",
    "print(\"=\" * 70)\n",
    "print(f\"\\n Total de features: {df_clean.shape[1]}\")\n",
    "print(f\" Features nuevas creadas: {len(engineer.created_features)}\")\n",
    "print(f\" Dataset listo para modelado\")\n",
    "print(\"\\n Próximo paso: 03_Modeling.ipynb\")\n",
    "print(\"=\" * 70)"
   ]
  }
 ],
 "metadata": {
  "kernelspec": {
   "display_name": "Python 3 (ipykernel)",
   "language": "python",
   "name": "python3"
  },
  "language_info": {
   "codemirror_mode": {
    "name": "ipython",
    "version": 3
   },
   "file_extension": ".py",
   "mimetype": "text/x-python",
   "name": "python",
   "nbconvert_exporter": "python",
   "pygments_lexer": "ipython3",
   "version": "3.9.23"
  }
 },
 "nbformat": 4,
 "nbformat_minor": 5
}
